{
 "metadata": {
  "language_info": {
   "codemirror_mode": {
    "name": "ipython",
    "version": 3
   },
   "file_extension": ".py",
   "mimetype": "text/x-python",
   "name": "python",
   "nbconvert_exporter": "python",
   "pygments_lexer": "ipython3",
   "version": "3.8.5-final"
  },
  "orig_nbformat": 2,
  "kernelspec": {
   "name": "Python 3.8.5 64-bit",
   "display_name": "Python 3.8.5 64-bit",
   "metadata": {
    "interpreter": {
     "hash": "2db524e06e9f5f4ffedc911c917cb75e12dbc923643829bf417064a77eb14d37"
    }
   }
  }
 },
 "nbformat": 4,
 "nbformat_minor": 2,
 "cells": [
  {
   "source": [
    "* scrape for random sample to use as input\n",
    "    * input --> tweet relating to US politics \n",
    "    * process --> extrat user iD (UID) of tweet\n",
    "    * output --> .csv of relevant UIDs\n",
    "    \n",
    "* model for party classification [built]\n",
    "    * input --> ? tweet / twitter user ? **Kaggle Dataset**\n",
    "    * output --> \n",
    "* API for bot identification [built]\n",
    "    * input --> twitter user\n",
    "    * output --> Bot / Human\n"
   ],
   "cell_type": "markdown",
   "metadata": {}
  },
  {
   "source": [
    "Intened Outcome: \n",
    "\n",
    "Tweet includes \"Biden\" \"Trump\" \n",
    "\n",
    "Party | User ID | Handle | Date | Tweet | Sentiment\n",
    "-------------------------\n",
    " (null) | 12312321 | @Biden | 10/11/2020 | I will win! | positive"
   ],
   "cell_type": "markdown",
   "metadata": {}
  },
  {
   "source": [
    "## Scraping Twitter"
   ],
   "cell_type": "markdown",
   "metadata": {}
  },
  {
   "source": [
    "#### Keys for API"
   ],
   "cell_type": "markdown",
   "metadata": {}
  },
  {
   "cell_type": "code",
   "execution_count": 1,
   "metadata": {},
   "outputs": [],
   "source": [
    "import tweepy \n",
    "import pandas as pd "
   ]
  },
  {
   "cell_type": "code",
   "execution_count": null,
   "metadata": {},
   "outputs": [],
   "source": [
    "## Add keys, dont push to GitHub"
   ]
  },
  {
   "cell_type": "code",
   "execution_count": 2,
   "metadata": {},
   "outputs": [],
   "source": [
    "consumer_key = \"\"\n",
    "consumer_secret = \"\"\n",
    "access_token = \"\"\n",
    "access_token_secret = \"\"\n",
    "\n",
    "auth = tweepy.OAuthHandler(consumer_key, consumer_secret)\n",
    "auth.set_access_token(access_token, access_token_secret)\n",
    "api = tweepy.API(auth,wait_on_rate_limit=True,wait_on_rate_limit_notify=True)"
   ]
  },
  {
   "source": [
    "Help API methods:\n",
    "* tweet.author.id = User ID"
   ],
   "cell_type": "markdown",
   "metadata": {}
  },
  {
   "source": [
    "### Tweets containing 'Trump' & 'Biden', in english, from past 7 days"
   ],
   "cell_type": "markdown",
   "metadata": {}
  },
  {
   "cell_type": "code",
   "execution_count": 9,
   "metadata": {},
   "outputs": [
    {
     "output_type": "stream",
     "name": "stdout",
     "text": [
      "failed on_status, \n"
     ]
    },
    {
     "output_type": "error",
     "ename": "NameError",
     "evalue": "name 'time' is not defined",
     "traceback": [
      "\u001b[1;31m---------------------------------------------------------------------------\u001b[0m",
      "\u001b[1;31mKeyboardInterrupt\u001b[0m                         Traceback (most recent call last)",
      "\u001b[1;32m<ipython-input-9-1cf0edfa6936>\u001b[0m in \u001b[0;36m<module>\u001b[1;34m\u001b[0m\n\u001b[0;32m      8\u001b[0m  \u001b[1;31m# Pulling information from tweets iterable object\u001b[0m\u001b[1;33m\u001b[0m\u001b[1;33m\u001b[0m\u001b[1;33m\u001b[0m\u001b[0m\n\u001b[1;32m----> 9\u001b[1;33m  \u001b[0mrelevant_tweets_list\u001b[0m \u001b[1;33m=\u001b[0m \u001b[1;33m[\u001b[0m\u001b[1;33m[\u001b[0m\u001b[0mtweet\u001b[0m\u001b[1;33m.\u001b[0m\u001b[0mcreated_at\u001b[0m\u001b[1;33m,\u001b[0m \u001b[0mtweet\u001b[0m\u001b[1;33m.\u001b[0m\u001b[0mauthor\u001b[0m\u001b[1;33m.\u001b[0m\u001b[0mid\u001b[0m\u001b[1;33m,\u001b[0m \u001b[0mtweet\u001b[0m\u001b[1;33m.\u001b[0m\u001b[0mauthor\u001b[0m\u001b[1;33m.\u001b[0m\u001b[0mname\u001b[0m\u001b[1;33m,\u001b[0m \u001b[0mtweet\u001b[0m\u001b[1;33m.\u001b[0m\u001b[0mid\u001b[0m\u001b[1;33m,\u001b[0m \u001b[0mtweet\u001b[0m\u001b[1;33m.\u001b[0m\u001b[0mtext\u001b[0m\u001b[1;33m]\u001b[0m \u001b[1;32mfor\u001b[0m \u001b[0mtweet\u001b[0m \u001b[1;32min\u001b[0m \u001b[0mtweets\u001b[0m\u001b[1;33m]\u001b[0m\u001b[1;33m\u001b[0m\u001b[1;33m\u001b[0m\u001b[0m\n\u001b[0m\u001b[0;32m     10\u001b[0m \u001b[1;33m\u001b[0m\u001b[0m\n",
      "\u001b[1;32m<ipython-input-9-1cf0edfa6936>\u001b[0m in \u001b[0;36m<listcomp>\u001b[1;34m(.0)\u001b[0m\n\u001b[0;32m      8\u001b[0m  \u001b[1;31m# Pulling information from tweets iterable object\u001b[0m\u001b[1;33m\u001b[0m\u001b[1;33m\u001b[0m\u001b[1;33m\u001b[0m\u001b[0m\n\u001b[1;32m----> 9\u001b[1;33m  \u001b[0mrelevant_tweets_list\u001b[0m \u001b[1;33m=\u001b[0m \u001b[1;33m[\u001b[0m\u001b[1;33m[\u001b[0m\u001b[0mtweet\u001b[0m\u001b[1;33m.\u001b[0m\u001b[0mcreated_at\u001b[0m\u001b[1;33m,\u001b[0m \u001b[0mtweet\u001b[0m\u001b[1;33m.\u001b[0m\u001b[0mauthor\u001b[0m\u001b[1;33m.\u001b[0m\u001b[0mid\u001b[0m\u001b[1;33m,\u001b[0m \u001b[0mtweet\u001b[0m\u001b[1;33m.\u001b[0m\u001b[0mauthor\u001b[0m\u001b[1;33m.\u001b[0m\u001b[0mname\u001b[0m\u001b[1;33m,\u001b[0m \u001b[0mtweet\u001b[0m\u001b[1;33m.\u001b[0m\u001b[0mid\u001b[0m\u001b[1;33m,\u001b[0m \u001b[0mtweet\u001b[0m\u001b[1;33m.\u001b[0m\u001b[0mtext\u001b[0m\u001b[1;33m]\u001b[0m \u001b[1;32mfor\u001b[0m \u001b[0mtweet\u001b[0m \u001b[1;32min\u001b[0m \u001b[0mtweets\u001b[0m\u001b[1;33m]\u001b[0m\u001b[1;33m\u001b[0m\u001b[1;33m\u001b[0m\u001b[0m\n\u001b[0m\u001b[0;32m     10\u001b[0m \u001b[1;33m\u001b[0m\u001b[0m\n",
      "\u001b[1;32mC:\\Python38\\lib\\site-packages\\tweepy\\cursor.py\u001b[0m in \u001b[0;36m__next__\u001b[1;34m(self)\u001b[0m\n\u001b[0;32m     48\u001b[0m     \u001b[1;32mdef\u001b[0m \u001b[0m__next__\u001b[0m\u001b[1;33m(\u001b[0m\u001b[0mself\u001b[0m\u001b[1;33m)\u001b[0m\u001b[1;33m:\u001b[0m\u001b[1;33m\u001b[0m\u001b[1;33m\u001b[0m\u001b[0m\n\u001b[1;32m---> 49\u001b[1;33m         \u001b[1;32mreturn\u001b[0m \u001b[0mself\u001b[0m\u001b[1;33m.\u001b[0m\u001b[0mnext\u001b[0m\u001b[1;33m(\u001b[0m\u001b[1;33m)\u001b[0m\u001b[1;33m\u001b[0m\u001b[1;33m\u001b[0m\u001b[0m\n\u001b[0m\u001b[0;32m     50\u001b[0m \u001b[1;33m\u001b[0m\u001b[0m\n",
      "\u001b[1;32mC:\\Python38\\lib\\site-packages\\tweepy\\cursor.py\u001b[0m in \u001b[0;36mnext\u001b[1;34m(self)\u001b[0m\n\u001b[0;32m    218\u001b[0m             \u001b[1;31m# Reached end of current page, get the next page...\u001b[0m\u001b[1;33m\u001b[0m\u001b[1;33m\u001b[0m\u001b[1;33m\u001b[0m\u001b[0m\n\u001b[1;32m--> 219\u001b[1;33m             \u001b[0mself\u001b[0m\u001b[1;33m.\u001b[0m\u001b[0mcurrent_page\u001b[0m \u001b[1;33m=\u001b[0m \u001b[0mself\u001b[0m\u001b[1;33m.\u001b[0m\u001b[0mpage_iterator\u001b[0m\u001b[1;33m.\u001b[0m\u001b[0mnext\u001b[0m\u001b[1;33m(\u001b[0m\u001b[1;33m)\u001b[0m\u001b[1;33m\u001b[0m\u001b[1;33m\u001b[0m\u001b[0m\n\u001b[0m\u001b[0;32m    220\u001b[0m             \u001b[1;32mwhile\u001b[0m \u001b[0mlen\u001b[0m\u001b[1;33m(\u001b[0m\u001b[0mself\u001b[0m\u001b[1;33m.\u001b[0m\u001b[0mcurrent_page\u001b[0m\u001b[1;33m)\u001b[0m \u001b[1;33m==\u001b[0m \u001b[1;36m0\u001b[0m\u001b[1;33m:\u001b[0m\u001b[1;33m\u001b[0m\u001b[1;33m\u001b[0m\u001b[0m\n",
      "\u001b[1;32mC:\\Python38\\lib\\site-packages\\tweepy\\cursor.py\u001b[0m in \u001b[0;36mnext\u001b[1;34m(self)\u001b[0m\n\u001b[0;32m    129\u001b[0m         \u001b[1;32mif\u001b[0m \u001b[0mself\u001b[0m\u001b[1;33m.\u001b[0m\u001b[0mindex\u001b[0m \u001b[1;33m>=\u001b[0m \u001b[0mlen\u001b[0m\u001b[1;33m(\u001b[0m\u001b[0mself\u001b[0m\u001b[1;33m.\u001b[0m\u001b[0mresults\u001b[0m\u001b[1;33m)\u001b[0m \u001b[1;33m-\u001b[0m \u001b[1;36m1\u001b[0m\u001b[1;33m:\u001b[0m\u001b[1;33m\u001b[0m\u001b[1;33m\u001b[0m\u001b[0m\n\u001b[1;32m--> 130\u001b[1;33m             \u001b[0mdata\u001b[0m \u001b[1;33m=\u001b[0m \u001b[0mself\u001b[0m\u001b[1;33m.\u001b[0m\u001b[0mmethod\u001b[0m\u001b[1;33m(\u001b[0m\u001b[0mmax_id\u001b[0m\u001b[1;33m=\u001b[0m\u001b[0mself\u001b[0m\u001b[1;33m.\u001b[0m\u001b[0mmax_id\u001b[0m\u001b[1;33m,\u001b[0m \u001b[0mparser\u001b[0m\u001b[1;33m=\u001b[0m\u001b[0mRawParser\u001b[0m\u001b[1;33m(\u001b[0m\u001b[1;33m)\u001b[0m\u001b[1;33m,\u001b[0m \u001b[1;33m*\u001b[0m\u001b[0mself\u001b[0m\u001b[1;33m.\u001b[0m\u001b[0margs\u001b[0m\u001b[1;33m,\u001b[0m \u001b[1;33m**\u001b[0m\u001b[0mself\u001b[0m\u001b[1;33m.\u001b[0m\u001b[0mkwargs\u001b[0m\u001b[1;33m)\u001b[0m\u001b[1;33m\u001b[0m\u001b[1;33m\u001b[0m\u001b[0m\n\u001b[0m\u001b[0;32m    131\u001b[0m \u001b[1;33m\u001b[0m\u001b[0m\n",
      "\u001b[1;32mC:\\Python38\\lib\\site-packages\\tweepy\\binder.py\u001b[0m in \u001b[0;36m_call\u001b[1;34m(*args, **kwargs)\u001b[0m\n\u001b[0;32m    251\u001b[0m             \u001b[1;32melse\u001b[0m\u001b[1;33m:\u001b[0m\u001b[1;33m\u001b[0m\u001b[1;33m\u001b[0m\u001b[0m\n\u001b[1;32m--> 252\u001b[1;33m                 \u001b[1;32mreturn\u001b[0m \u001b[0mmethod\u001b[0m\u001b[1;33m.\u001b[0m\u001b[0mexecute\u001b[0m\u001b[1;33m(\u001b[0m\u001b[1;33m)\u001b[0m\u001b[1;33m\u001b[0m\u001b[1;33m\u001b[0m\u001b[0m\n\u001b[0m\u001b[0;32m    253\u001b[0m         \u001b[1;32mfinally\u001b[0m\u001b[1;33m:\u001b[0m\u001b[1;33m\u001b[0m\u001b[1;33m\u001b[0m\u001b[0m\n",
      "\u001b[1;32mC:\\Python38\\lib\\site-packages\\tweepy\\binder.py\u001b[0m in \u001b[0;36mexecute\u001b[1;34m(self)\u001b[0m\n\u001b[0;32m    183\u001b[0m                 \u001b[1;32mtry\u001b[0m\u001b[1;33m:\u001b[0m\u001b[1;33m\u001b[0m\u001b[1;33m\u001b[0m\u001b[0m\n\u001b[1;32m--> 184\u001b[1;33m                     resp = self.session.request(self.method,\n\u001b[0m\u001b[0;32m    185\u001b[0m                                                 \u001b[0mfull_url\u001b[0m\u001b[1;33m,\u001b[0m\u001b[1;33m\u001b[0m\u001b[1;33m\u001b[0m\u001b[0m\n",
      "\u001b[1;32mC:\\Python38\\lib\\site-packages\\requests\\sessions.py\u001b[0m in \u001b[0;36mrequest\u001b[1;34m(self, method, url, params, data, headers, cookies, files, auth, timeout, allow_redirects, proxies, hooks, stream, verify, cert, json)\u001b[0m\n\u001b[0;32m    529\u001b[0m         \u001b[0msend_kwargs\u001b[0m\u001b[1;33m.\u001b[0m\u001b[0mupdate\u001b[0m\u001b[1;33m(\u001b[0m\u001b[0msettings\u001b[0m\u001b[1;33m)\u001b[0m\u001b[1;33m\u001b[0m\u001b[1;33m\u001b[0m\u001b[0m\n\u001b[1;32m--> 530\u001b[1;33m         \u001b[0mresp\u001b[0m \u001b[1;33m=\u001b[0m \u001b[0mself\u001b[0m\u001b[1;33m.\u001b[0m\u001b[0msend\u001b[0m\u001b[1;33m(\u001b[0m\u001b[0mprep\u001b[0m\u001b[1;33m,\u001b[0m \u001b[1;33m**\u001b[0m\u001b[0msend_kwargs\u001b[0m\u001b[1;33m)\u001b[0m\u001b[1;33m\u001b[0m\u001b[1;33m\u001b[0m\u001b[0m\n\u001b[0m\u001b[0;32m    531\u001b[0m \u001b[1;33m\u001b[0m\u001b[0m\n",
      "\u001b[1;32mC:\\Python38\\lib\\site-packages\\requests\\sessions.py\u001b[0m in \u001b[0;36msend\u001b[1;34m(self, request, **kwargs)\u001b[0m\n\u001b[0;32m    642\u001b[0m         \u001b[1;31m# Send the request\u001b[0m\u001b[1;33m\u001b[0m\u001b[1;33m\u001b[0m\u001b[1;33m\u001b[0m\u001b[0m\n\u001b[1;32m--> 643\u001b[1;33m         \u001b[0mr\u001b[0m \u001b[1;33m=\u001b[0m \u001b[0madapter\u001b[0m\u001b[1;33m.\u001b[0m\u001b[0msend\u001b[0m\u001b[1;33m(\u001b[0m\u001b[0mrequest\u001b[0m\u001b[1;33m,\u001b[0m \u001b[1;33m**\u001b[0m\u001b[0mkwargs\u001b[0m\u001b[1;33m)\u001b[0m\u001b[1;33m\u001b[0m\u001b[1;33m\u001b[0m\u001b[0m\n\u001b[0m\u001b[0;32m    644\u001b[0m \u001b[1;33m\u001b[0m\u001b[0m\n",
      "\u001b[1;32mC:\\Python38\\lib\\site-packages\\requests\\adapters.py\u001b[0m in \u001b[0;36msend\u001b[1;34m(self, request, stream, timeout, verify, cert, proxies)\u001b[0m\n\u001b[0;32m    438\u001b[0m             \u001b[1;32mif\u001b[0m \u001b[1;32mnot\u001b[0m \u001b[0mchunked\u001b[0m\u001b[1;33m:\u001b[0m\u001b[1;33m\u001b[0m\u001b[1;33m\u001b[0m\u001b[0m\n\u001b[1;32m--> 439\u001b[1;33m                 resp = conn.urlopen(\n\u001b[0m\u001b[0;32m    440\u001b[0m                     \u001b[0mmethod\u001b[0m\u001b[1;33m=\u001b[0m\u001b[0mrequest\u001b[0m\u001b[1;33m.\u001b[0m\u001b[0mmethod\u001b[0m\u001b[1;33m,\u001b[0m\u001b[1;33m\u001b[0m\u001b[1;33m\u001b[0m\u001b[0m\n",
      "\u001b[1;32mC:\\Python38\\lib\\site-packages\\urllib3\\connectionpool.py\u001b[0m in \u001b[0;36murlopen\u001b[1;34m(self, method, url, body, headers, retries, redirect, assert_same_host, timeout, pool_timeout, release_conn, chunked, body_pos, **response_kw)\u001b[0m\n\u001b[0;32m    669\u001b[0m             \u001b[1;31m# Make the request on the httplib connection object.\u001b[0m\u001b[1;33m\u001b[0m\u001b[1;33m\u001b[0m\u001b[1;33m\u001b[0m\u001b[0m\n\u001b[1;32m--> 670\u001b[1;33m             httplib_response = self._make_request(\n\u001b[0m\u001b[0;32m    671\u001b[0m                 \u001b[0mconn\u001b[0m\u001b[1;33m,\u001b[0m\u001b[1;33m\u001b[0m\u001b[1;33m\u001b[0m\u001b[0m\n",
      "\u001b[1;32mC:\\Python38\\lib\\site-packages\\urllib3\\connectionpool.py\u001b[0m in \u001b[0;36m_make_request\u001b[1;34m(self, conn, method, url, timeout, chunked, **httplib_request_kw)\u001b[0m\n\u001b[0;32m    380\u001b[0m         \u001b[1;32mtry\u001b[0m\u001b[1;33m:\u001b[0m\u001b[1;33m\u001b[0m\u001b[1;33m\u001b[0m\u001b[0m\n\u001b[1;32m--> 381\u001b[1;33m             \u001b[0mself\u001b[0m\u001b[1;33m.\u001b[0m\u001b[0m_validate_conn\u001b[0m\u001b[1;33m(\u001b[0m\u001b[0mconn\u001b[0m\u001b[1;33m)\u001b[0m\u001b[1;33m\u001b[0m\u001b[1;33m\u001b[0m\u001b[0m\n\u001b[0m\u001b[0;32m    382\u001b[0m         \u001b[1;32mexcept\u001b[0m \u001b[1;33m(\u001b[0m\u001b[0mSocketTimeout\u001b[0m\u001b[1;33m,\u001b[0m \u001b[0mBaseSSLError\u001b[0m\u001b[1;33m)\u001b[0m \u001b[1;32mas\u001b[0m \u001b[0me\u001b[0m\u001b[1;33m:\u001b[0m\u001b[1;33m\u001b[0m\u001b[1;33m\u001b[0m\u001b[0m\n",
      "\u001b[1;32mC:\\Python38\\lib\\site-packages\\urllib3\\connectionpool.py\u001b[0m in \u001b[0;36m_validate_conn\u001b[1;34m(self, conn)\u001b[0m\n\u001b[0;32m    977\u001b[0m         \u001b[1;32mif\u001b[0m \u001b[1;32mnot\u001b[0m \u001b[0mgetattr\u001b[0m\u001b[1;33m(\u001b[0m\u001b[0mconn\u001b[0m\u001b[1;33m,\u001b[0m \u001b[1;34m\"sock\"\u001b[0m\u001b[1;33m,\u001b[0m \u001b[1;32mNone\u001b[0m\u001b[1;33m)\u001b[0m\u001b[1;33m:\u001b[0m  \u001b[1;31m# AppEngine might not have  `.sock`\u001b[0m\u001b[1;33m\u001b[0m\u001b[1;33m\u001b[0m\u001b[0m\n\u001b[1;32m--> 978\u001b[1;33m             \u001b[0mconn\u001b[0m\u001b[1;33m.\u001b[0m\u001b[0mconnect\u001b[0m\u001b[1;33m(\u001b[0m\u001b[1;33m)\u001b[0m\u001b[1;33m\u001b[0m\u001b[1;33m\u001b[0m\u001b[0m\n\u001b[0m\u001b[0;32m    979\u001b[0m \u001b[1;33m\u001b[0m\u001b[0m\n",
      "\u001b[1;32mC:\\Python38\\lib\\site-packages\\urllib3\\connection.py\u001b[0m in \u001b[0;36mconnect\u001b[1;34m(self)\u001b[0m\n\u001b[0;32m    361\u001b[0m \u001b[1;33m\u001b[0m\u001b[0m\n\u001b[1;32m--> 362\u001b[1;33m         self.sock = ssl_wrap_socket(\n\u001b[0m\u001b[0;32m    363\u001b[0m             \u001b[0msock\u001b[0m\u001b[1;33m=\u001b[0m\u001b[0mconn\u001b[0m\u001b[1;33m,\u001b[0m\u001b[1;33m\u001b[0m\u001b[1;33m\u001b[0m\u001b[0m\n",
      "\u001b[1;32mC:\\Python38\\lib\\site-packages\\urllib3\\util\\ssl_.py\u001b[0m in \u001b[0;36mssl_wrap_socket\u001b[1;34m(sock, keyfile, certfile, cert_reqs, ca_certs, server_hostname, ssl_version, ciphers, ssl_context, ca_cert_dir, key_password, ca_cert_data)\u001b[0m\n\u001b[0;32m    349\u001b[0m         \u001b[1;32mtry\u001b[0m\u001b[1;33m:\u001b[0m\u001b[1;33m\u001b[0m\u001b[1;33m\u001b[0m\u001b[0m\n\u001b[1;32m--> 350\u001b[1;33m             \u001b[0mcontext\u001b[0m\u001b[1;33m.\u001b[0m\u001b[0mload_verify_locations\u001b[0m\u001b[1;33m(\u001b[0m\u001b[0mca_certs\u001b[0m\u001b[1;33m,\u001b[0m \u001b[0mca_cert_dir\u001b[0m\u001b[1;33m,\u001b[0m \u001b[0mca_cert_data\u001b[0m\u001b[1;33m)\u001b[0m\u001b[1;33m\u001b[0m\u001b[1;33m\u001b[0m\u001b[0m\n\u001b[0m\u001b[0;32m    351\u001b[0m         \u001b[1;32mexcept\u001b[0m \u001b[0mIOError\u001b[0m \u001b[1;32mas\u001b[0m \u001b[0me\u001b[0m\u001b[1;33m:\u001b[0m  \u001b[1;31m# Platform-specific: Python 2.7\u001b[0m\u001b[1;33m\u001b[0m\u001b[1;33m\u001b[0m\u001b[0m\n",
      "\u001b[1;31mKeyboardInterrupt\u001b[0m: ",
      "\nDuring handling of the above exception, another exception occurred:\n",
      "\u001b[1;31mNameError\u001b[0m                                 Traceback (most recent call last)",
      "\u001b[1;32m<ipython-input-9-1cf0edfa6936>\u001b[0m in \u001b[0;36m<module>\u001b[1;34m\u001b[0m\n\u001b[0;32m     15\u001b[0m \u001b[1;32mexcept\u001b[0m \u001b[0mBaseException\u001b[0m \u001b[1;32mas\u001b[0m \u001b[0me\u001b[0m\u001b[1;33m:\u001b[0m\u001b[1;33m\u001b[0m\u001b[1;33m\u001b[0m\u001b[0m\n\u001b[0;32m     16\u001b[0m     \u001b[0mprint\u001b[0m\u001b[1;33m(\u001b[0m\u001b[1;34m'failed on_status,'\u001b[0m\u001b[1;33m,\u001b[0m\u001b[0mstr\u001b[0m\u001b[1;33m(\u001b[0m\u001b[0me\u001b[0m\u001b[1;33m)\u001b[0m\u001b[1;33m)\u001b[0m\u001b[1;33m\u001b[0m\u001b[1;33m\u001b[0m\u001b[0m\n\u001b[1;32m---> 17\u001b[1;33m     \u001b[0mtime\u001b[0m\u001b[1;33m.\u001b[0m\u001b[0msleep\u001b[0m\u001b[1;33m(\u001b[0m\u001b[1;36m3\u001b[0m\u001b[1;33m)\u001b[0m\u001b[1;33m\u001b[0m\u001b[1;33m\u001b[0m\u001b[0m\n\u001b[0m\u001b[0;32m     18\u001b[0m \u001b[1;33m\u001b[0m\u001b[0m\n\u001b[0;32m     19\u001b[0m \u001b[1;33m\u001b[0m\u001b[0m\n",
      "\u001b[1;31mNameError\u001b[0m: name 'time' is not defined"
     ]
    }
   ],
   "source": [
    "text_query = 'Trump Biden'\n",
    "count = 10000\n",
    "\n",
    "try:\n",
    " # Creation of query method using parameters\n",
    " tweets = tweepy.Cursor(api.search,q=text_query,lang='en').items(count)\n",
    " \n",
    " # Pulling information from tweets iterable object\n",
    " relevant_tweets_list = [[tweet.created_at, tweet.author.id, tweet.author.name, tweet.id, tweet.text] for tweet in tweets]\n",
    " \n",
    " # Creation of dataframe from tweets list\n",
    " # Add or remove columns as you remove tweet information\n",
    " relevant_tweets_df = pd.DataFrame(relevant_tweets_list)\n",
    " \n",
    "except BaseException as e:\n",
    "    print('failed on_status,',str(e))\n",
    "    time.sleep(3)\n",
    "\n",
    "\n",
    "relevant_tweets_df.to_csv('10k_political_tweets.csv')"
   ]
  },
  {
   "cell_type": "code",
   "execution_count": 10,
   "metadata": {},
   "outputs": [],
   "source": [
    "\n"
   ]
  },
  {
   "cell_type": "code",
   "execution_count": 12,
   "metadata": {},
   "outputs": [
    {
     "output_type": "stream",
     "name": "stdout",
     "text": [
      "<class 'pandas.core.frame.DataFrame'>\nRangeIndex: 5000 entries, 0 to 4999\nData columns (total 5 columns):\n #   Column  Non-Null Count  Dtype         \n---  ------  --------------  -----         \n 0   0       5000 non-null   datetime64[ns]\n 1   1       5000 non-null   int64         \n 2   2       5000 non-null   object        \n 3   3       5000 non-null   int64         \n 4   4       5000 non-null   object        \ndtypes: datetime64[ns](1), int64(2), object(2)\nmemory usage: 195.4+ KB\n"
     ]
    }
   ],
   "source": [
    "relevant_tweets_df.info()"
   ]
  },
  {
   "cell_type": "code",
   "execution_count": 14,
   "metadata": {},
   "outputs": [],
   "source": []
  },
  {
   "source": [
    "Filters out all retweets based upon Twitter API 'retweet' object"
   ],
   "cell_type": "markdown",
   "metadata": {}
  },
  {
   "cell_type": "code",
   "execution_count": 7,
   "metadata": {},
   "outputs": [
    {
     "output_type": "execute_result",
     "data": {
      "text/plain": [
       "                     0                    1                    2  \\\n",
       "0  2020-10-20 03:00:12             19362313      Katie Henderson   \n",
       "1  2020-10-20 03:00:12  1304210919858360321               WKGoin   \n",
       "2  2020-10-20 03:00:11  1250132103779344384        GillBates1984   \n",
       "3  2020-10-20 03:00:11            187656368      Andrea Cuchetto   \n",
       "4  2020-10-20 03:00:11           4556535875          kreigh Hook   \n",
       "5  2020-10-20 03:00:10             17121146  WATE 6 On Your Side   \n",
       "6  2020-10-20 03:00:09  1259518228931452928     theinfomaker.com   \n",
       "7  2020-10-20 03:00:09   937899468585828352  The Voice Of Reason   \n",
       "8  2020-10-20 03:00:09  1311496088528973824     Glocal Rookie HK   \n",
       "9  2020-10-20 03:00:08  1036749588709957633    Sith Lord Bitmoji   \n",
       "10 2020-10-20 03:00:07            117914270                  Dub   \n",
       "11 2020-10-20 03:00:06             16180382    Mike FennHELLy 🚩🏴   \n",
       "12 2020-10-20 03:00:06            152311372    National Interest   \n",
       "13 2020-10-20 03:00:06  1101138303582035969               Deanna   \n",
       "14 2020-10-20 03:00:05             30887476   Noble Ramzi El Bey   \n",
       "15 2020-10-20 03:00:04              9300262             POLITICO   \n",
       "16 2020-10-20 03:00:04  1300961641987739653        david braasch   \n",
       "17 2020-10-20 03:00:04  1267607088731168768                Decka   \n",
       "18 2020-10-20 03:00:03             14270422        P A T • L E E   \n",
       "19 2020-10-20 03:00:01             35606154                   BM   \n",
       "20 2020-10-20 03:00:00             16744446  Opelika-Auburn News   \n",
       "21 2020-10-20 03:00:00             20627332            KHQA News   \n",
       "22 2020-10-20 03:00:00            130617778      Keith Olbermann   \n",
       "23 2020-10-20 03:00:00             17141539           CBS 4 News   \n",
       "24 2020-10-20 02:59:58             49896557            Melissa⚓️   \n",
       "25 2020-10-20 02:59:57   803669101008879616                  FBD   \n",
       "26 2020-10-20 02:59:57            380165700        George Barcha   \n",
       "27 2020-10-20 02:59:56  1113412866810568705  WordPress Site Work   \n",
       "28 2020-10-20 02:59:56   765296237331357696              brian o   \n",
       "29 2020-10-20 02:59:55            763675500             Laurie E   \n",
       "\n",
       "                      3                                                  4  \n",
       "0   1318386506638053377  Biden: *Sworn in on January 20th*\\nTrump: http...  \n",
       "1   1318386506629787651  I look at and listen to Joe Biden - then try t...  \n",
       "2   1318386503039340545  @Im_Maddie @DemsWear @realDonaldTrump @JoeBide...  \n",
       "3   1318386502737580035  @NewsHour @LisaDNews This is a distorted polit...  \n",
       "4   1318386502590672897  @Hope_IN8 I think the streak breaks. It goes t...  \n",
       "5   1318386500535570432  The Commission on Presidential Debates has ado...  \n",
       "6   1318386496752279556  UNITED STATES | OPINION\\nhttps://t.co/H3oUyljB...  \n",
       "7   1318386495867244544  The most ridiculous part of the #Hunterbidenla...  \n",
       "8   1318386494063616000  《Is Donald Trump a Racist?》\\nhttps://t.co/nYvU...  \n",
       "9   1318386491685588992  He's permanently canceled. Greedy assclown.\\n\\...  \n",
       "10  1318386485025005568  Therapist: How was your childhood\\n\\nHunter: M...  \n",
       "11  1318386483376451594  @k8em0 I'd pay good money to see Biden show up...  \n",
       "12  1318386482604900352  \"For Republicans such as Senate Majority leade...  \n",
       "13  1318386481661181952  Trump Jr posts bizarre video from bed complain...  \n",
       "14  1318386479358529536  Justa question. Y BIDEN DON'T GOT PPL SUPPORTI...  \n",
       "15  1318386474216280064  President Donald Trump and Democratic nominee ...  \n",
       "16  1318386472744046593  @primpaws1234 @SenSchumer Hillary uses Russian...  \n",
       "17  1318386472534376449  If my comments about not liking Trump upset yo...  \n",
       "18  1318386469401251841  When asked why his apparent campaign strategy ...  \n",
       "19  1318386460987428864  Trump ties Fauci to Biden — to Biden's delight...  \n",
       "20  1318386458005221381  President Donald Trump and Democratic rival Jo...  \n",
       "21  1318386456713330688  MUTING MICS: Trump and Biden's microphones wil...  \n",
       "22  1318386456428081155  NEW VIDEO: GOP Congressman agrees Trump is inc...  \n",
       "23  1318386456344338432  The Commission on Presidential Debates has ado...  \n",
       "24  1318386450203873281  @chelseahandler You need to call your pal 50 C...  \n",
       "25  1318386444755415046  @Acosta He is really scared, he knows that he ...  \n",
       "26  1318386443446669312  Please RSVP: The 2020 US Election - Trump v Bi...  \n",
       "27  1318386442343768069  @RepRiggleman @RepFinkenauer \"SHUT HIM UP!\" \\n...  \n",
       "28  1318386442146582528  Biden blames Trump's 'liberate Michigan' tweet...  \n",
       "29  1318386434383007744  @Melissa_VA_757 It could be amusing watching t...  "
      ],
      "text/html": "<div>\n<style scoped>\n    .dataframe tbody tr th:only-of-type {\n        vertical-align: middle;\n    }\n\n    .dataframe tbody tr th {\n        vertical-align: top;\n    }\n\n    .dataframe thead th {\n        text-align: right;\n    }\n</style>\n<table border=\"1\" class=\"dataframe\">\n  <thead>\n    <tr style=\"text-align: right;\">\n      <th></th>\n      <th>0</th>\n      <th>1</th>\n      <th>2</th>\n      <th>3</th>\n      <th>4</th>\n    </tr>\n  </thead>\n  <tbody>\n    <tr>\n      <th>0</th>\n      <td>2020-10-20 03:00:12</td>\n      <td>19362313</td>\n      <td>Katie Henderson</td>\n      <td>1318386506638053377</td>\n      <td>Biden: *Sworn in on January 20th*\\nTrump: http...</td>\n    </tr>\n    <tr>\n      <th>1</th>\n      <td>2020-10-20 03:00:12</td>\n      <td>1304210919858360321</td>\n      <td>WKGoin</td>\n      <td>1318386506629787651</td>\n      <td>I look at and listen to Joe Biden - then try t...</td>\n    </tr>\n    <tr>\n      <th>2</th>\n      <td>2020-10-20 03:00:11</td>\n      <td>1250132103779344384</td>\n      <td>GillBates1984</td>\n      <td>1318386503039340545</td>\n      <td>@Im_Maddie @DemsWear @realDonaldTrump @JoeBide...</td>\n    </tr>\n    <tr>\n      <th>3</th>\n      <td>2020-10-20 03:00:11</td>\n      <td>187656368</td>\n      <td>Andrea Cuchetto</td>\n      <td>1318386502737580035</td>\n      <td>@NewsHour @LisaDNews This is a distorted polit...</td>\n    </tr>\n    <tr>\n      <th>4</th>\n      <td>2020-10-20 03:00:11</td>\n      <td>4556535875</td>\n      <td>kreigh Hook</td>\n      <td>1318386502590672897</td>\n      <td>@Hope_IN8 I think the streak breaks. It goes t...</td>\n    </tr>\n    <tr>\n      <th>5</th>\n      <td>2020-10-20 03:00:10</td>\n      <td>17121146</td>\n      <td>WATE 6 On Your Side</td>\n      <td>1318386500535570432</td>\n      <td>The Commission on Presidential Debates has ado...</td>\n    </tr>\n    <tr>\n      <th>6</th>\n      <td>2020-10-20 03:00:09</td>\n      <td>1259518228931452928</td>\n      <td>theinfomaker.com</td>\n      <td>1318386496752279556</td>\n      <td>UNITED STATES | OPINION\\nhttps://t.co/H3oUyljB...</td>\n    </tr>\n    <tr>\n      <th>7</th>\n      <td>2020-10-20 03:00:09</td>\n      <td>937899468585828352</td>\n      <td>The Voice Of Reason</td>\n      <td>1318386495867244544</td>\n      <td>The most ridiculous part of the #Hunterbidenla...</td>\n    </tr>\n    <tr>\n      <th>8</th>\n      <td>2020-10-20 03:00:09</td>\n      <td>1311496088528973824</td>\n      <td>Glocal Rookie HK</td>\n      <td>1318386494063616000</td>\n      <td>《Is Donald Trump a Racist?》\\nhttps://t.co/nYvU...</td>\n    </tr>\n    <tr>\n      <th>9</th>\n      <td>2020-10-20 03:00:08</td>\n      <td>1036749588709957633</td>\n      <td>Sith Lord Bitmoji</td>\n      <td>1318386491685588992</td>\n      <td>He's permanently canceled. Greedy assclown.\\n\\...</td>\n    </tr>\n    <tr>\n      <th>10</th>\n      <td>2020-10-20 03:00:07</td>\n      <td>117914270</td>\n      <td>Dub</td>\n      <td>1318386485025005568</td>\n      <td>Therapist: How was your childhood\\n\\nHunter: M...</td>\n    </tr>\n    <tr>\n      <th>11</th>\n      <td>2020-10-20 03:00:06</td>\n      <td>16180382</td>\n      <td>Mike FennHELLy 🚩🏴</td>\n      <td>1318386483376451594</td>\n      <td>@k8em0 I'd pay good money to see Biden show up...</td>\n    </tr>\n    <tr>\n      <th>12</th>\n      <td>2020-10-20 03:00:06</td>\n      <td>152311372</td>\n      <td>National Interest</td>\n      <td>1318386482604900352</td>\n      <td>\"For Republicans such as Senate Majority leade...</td>\n    </tr>\n    <tr>\n      <th>13</th>\n      <td>2020-10-20 03:00:06</td>\n      <td>1101138303582035969</td>\n      <td>Deanna</td>\n      <td>1318386481661181952</td>\n      <td>Trump Jr posts bizarre video from bed complain...</td>\n    </tr>\n    <tr>\n      <th>14</th>\n      <td>2020-10-20 03:00:05</td>\n      <td>30887476</td>\n      <td>Noble Ramzi El Bey</td>\n      <td>1318386479358529536</td>\n      <td>Justa question. Y BIDEN DON'T GOT PPL SUPPORTI...</td>\n    </tr>\n    <tr>\n      <th>15</th>\n      <td>2020-10-20 03:00:04</td>\n      <td>9300262</td>\n      <td>POLITICO</td>\n      <td>1318386474216280064</td>\n      <td>President Donald Trump and Democratic nominee ...</td>\n    </tr>\n    <tr>\n      <th>16</th>\n      <td>2020-10-20 03:00:04</td>\n      <td>1300961641987739653</td>\n      <td>david braasch</td>\n      <td>1318386472744046593</td>\n      <td>@primpaws1234 @SenSchumer Hillary uses Russian...</td>\n    </tr>\n    <tr>\n      <th>17</th>\n      <td>2020-10-20 03:00:04</td>\n      <td>1267607088731168768</td>\n      <td>Decka</td>\n      <td>1318386472534376449</td>\n      <td>If my comments about not liking Trump upset yo...</td>\n    </tr>\n    <tr>\n      <th>18</th>\n      <td>2020-10-20 03:00:03</td>\n      <td>14270422</td>\n      <td>P A T • L E E</td>\n      <td>1318386469401251841</td>\n      <td>When asked why his apparent campaign strategy ...</td>\n    </tr>\n    <tr>\n      <th>19</th>\n      <td>2020-10-20 03:00:01</td>\n      <td>35606154</td>\n      <td>BM</td>\n      <td>1318386460987428864</td>\n      <td>Trump ties Fauci to Biden — to Biden's delight...</td>\n    </tr>\n    <tr>\n      <th>20</th>\n      <td>2020-10-20 03:00:00</td>\n      <td>16744446</td>\n      <td>Opelika-Auburn News</td>\n      <td>1318386458005221381</td>\n      <td>President Donald Trump and Democratic rival Jo...</td>\n    </tr>\n    <tr>\n      <th>21</th>\n      <td>2020-10-20 03:00:00</td>\n      <td>20627332</td>\n      <td>KHQA News</td>\n      <td>1318386456713330688</td>\n      <td>MUTING MICS: Trump and Biden's microphones wil...</td>\n    </tr>\n    <tr>\n      <th>22</th>\n      <td>2020-10-20 03:00:00</td>\n      <td>130617778</td>\n      <td>Keith Olbermann</td>\n      <td>1318386456428081155</td>\n      <td>NEW VIDEO: GOP Congressman agrees Trump is inc...</td>\n    </tr>\n    <tr>\n      <th>23</th>\n      <td>2020-10-20 03:00:00</td>\n      <td>17141539</td>\n      <td>CBS 4 News</td>\n      <td>1318386456344338432</td>\n      <td>The Commission on Presidential Debates has ado...</td>\n    </tr>\n    <tr>\n      <th>24</th>\n      <td>2020-10-20 02:59:58</td>\n      <td>49896557</td>\n      <td>Melissa⚓️</td>\n      <td>1318386450203873281</td>\n      <td>@chelseahandler You need to call your pal 50 C...</td>\n    </tr>\n    <tr>\n      <th>25</th>\n      <td>2020-10-20 02:59:57</td>\n      <td>803669101008879616</td>\n      <td>FBD</td>\n      <td>1318386444755415046</td>\n      <td>@Acosta He is really scared, he knows that he ...</td>\n    </tr>\n    <tr>\n      <th>26</th>\n      <td>2020-10-20 02:59:57</td>\n      <td>380165700</td>\n      <td>George Barcha</td>\n      <td>1318386443446669312</td>\n      <td>Please RSVP: The 2020 US Election - Trump v Bi...</td>\n    </tr>\n    <tr>\n      <th>27</th>\n      <td>2020-10-20 02:59:56</td>\n      <td>1113412866810568705</td>\n      <td>WordPress Site Work</td>\n      <td>1318386442343768069</td>\n      <td>@RepRiggleman @RepFinkenauer \"SHUT HIM UP!\" \\n...</td>\n    </tr>\n    <tr>\n      <th>28</th>\n      <td>2020-10-20 02:59:56</td>\n      <td>765296237331357696</td>\n      <td>brian o</td>\n      <td>1318386442146582528</td>\n      <td>Biden blames Trump's 'liberate Michigan' tweet...</td>\n    </tr>\n    <tr>\n      <th>29</th>\n      <td>2020-10-20 02:59:55</td>\n      <td>763675500</td>\n      <td>Laurie E</td>\n      <td>1318386434383007744</td>\n      <td>@Melissa_VA_757 It could be amusing watching t...</td>\n    </tr>\n  </tbody>\n</table>\n</div>"
     },
     "metadata": {},
     "execution_count": 7
    }
   ],
   "source": [
    "text_query = 'Trump Biden -filter:retweets'\n",
    "count = 10000\n",
    "\n",
    "try:\n",
    " # Creation of query method using parameters\n",
    " tweets = tweepy.Cursor(api.search,q=text_query,lang='en').items(count)\n",
    " \n",
    " # Pulling information from tweets iterable object\n",
    " relevant_tweets_list = [[tweet.created_at, tweet.author.id, tweet.author.name, tweet.id, tweet.text] for tweet in tweets]\n",
    " \n",
    " # Creation of dataframe from tweets list\n",
    " # Add or remove columns as you remove tweet information\n",
    " relevant_tweets_df = pd.DataFrame(relevant_tweets_list)\n",
    " \n",
    "except BaseException as e:\n",
    "    print('failed on_status,',str(e))\n",
    "    time.sleep(3)\n",
    "\n"
   ]
  },
  {
   "source": [
    "Save to csv"
   ],
   "cell_type": "markdown",
   "metadata": {}
  },
  {
   "cell_type": "code",
   "execution_count": null,
   "metadata": {},
   "outputs": [],
   "source": [
    "relevant_tweets_df.to_csv('10k_political_tweets_no_RT.csv')"
   ]
  }
 ]
}